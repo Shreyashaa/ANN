{
  "nbformat": 4,
  "nbformat_minor": 0,
  "metadata": {
    "colab": {
      "provenance": []
    },
    "kernelspec": {
      "name": "python3",
      "display_name": "Python 3"
    },
    "language_info": {
      "name": "python"
    }
  },
  "cells": [
    {
      "cell_type": "code",
      "source": [
        "import numpy as np"
      ],
      "metadata": {
        "id": "2ejgl9-6oBBO"
      },
      "execution_count": null,
      "outputs": []
    },
    {
      "cell_type": "code",
      "source": [
        "class ART1:\n",
        "    def __init__(self, num_features, vigilance):\n",
        "        self.num_features = num_features\n",
        "        self.vigilance = vigilance\n",
        "        self.weights = np.zeros((1, num_features))\n",
        "        self.category = -1\n",
        "\n",
        "    def train(self, x):\n",
        "        while True:\n",
        "            net = np.dot(self.weights, x)\n",
        "            rho = np.sum(net) / self.num_features\n",
        "            if rho >= self.vigilance:\n",
        "                self.weights = np.vstack((self.weights, x))\n",
        "                self.category += 1\n",
        "                break\n",
        "            else:\n",
        "                x = np.multiply(x, net)\n",
        "                if np.sum(x) == 0:\n",
        "                    break\n",
        "\n",
        "    def predict(self, x):\n",
        "        net = np.dot(self.weights, x)\n",
        "        rho = np.sum(net) / self.num_features\n",
        "        if rho >= self.vigilance:\n",
        "            return self.category\n",
        "        else:\n",
        "            return -1                   \n",
        "\n",
        "               "
      ],
      "metadata": {
        "id": "PhZVb6mOdZH7"
      },
      "execution_count": null,
      "outputs": []
    },
    {
      "cell_type": "code",
      "source": [
        "art = ART1(4, 0.5)"
      ],
      "metadata": {
        "id": "Bqq9xy42imPs"
      },
      "execution_count": null,
      "outputs": []
    },
    {
      "cell_type": "code",
      "source": [
        "art.train(np.array([1, 1, 0, 0]))\n",
        "art.train(np.array([0, 0, 1, 1]))\n"
      ],
      "metadata": {
        "id": "xnJijlP5isAZ"
      },
      "execution_count": null,
      "outputs": []
    },
    {
      "cell_type": "code",
      "source": [
        "category = art.predict(np.array([0, 1, 0, 0]))\n",
        "print(category)"
      ],
      "metadata": {
        "colab": {
          "base_uri": "https://localhost:8080/"
        },
        "id": "6e7TnBAGivFY",
        "outputId": "0cfe0104-3118-438a-fef8-86c02e021f99"
      },
      "execution_count": null,
      "outputs": [
        {
          "output_type": "stream",
          "name": "stdout",
          "text": [
            "-1\n"
          ]
        }
      ]
    }
  ]
}