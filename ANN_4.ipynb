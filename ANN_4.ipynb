{
  "nbformat": 4,
  "nbformat_minor": 0,
  "metadata": {
    "colab": {
      "provenance": []
    },
    "kernelspec": {
      "name": "python3",
      "display_name": "Python 3"
    },
    "language_info": {
      "name": "python"
    }
  },
  "cells": [
    {
      "cell_type": "code",
      "execution_count": null,
      "metadata": {
        "id": "Mzmanb0tr7me"
      },
      "outputs": [],
      "source": [
        "import numpy as np\n",
        "\n",
        "# for plotting the graphs\n",
        "import matplotlib.pyplot as plt\n",
        "\n",
        "# for implementing perceptron model\n",
        "from sklearn.linear_model import Perceptron"
      ]
    },
    {
      "cell_type": "code",
      "source": [
        "x1 = [1, 0, 0, 1]\n",
        "x2 = [1, 0, 1, 0]"
      ],
      "metadata": {
        "id": "QgkYqyvp1Qxj"
      },
      "execution_count": null,
      "outputs": []
    },
    {
      "cell_type": "code",
      "source": [
        "x = [[1,1], [0,0], [0, 1], [1, 0]]\n",
        "y = [1, 0, 0, 0]"
      ],
      "metadata": {
        "id": "W7o0-YXB3KL8"
      },
      "execution_count": null,
      "outputs": []
    },
    {
      "cell_type": "code",
      "source": [
        "plt.figure(figsize=(3, 3), dpi=80)\n",
        "plt.xlabel(\"x1\")\n",
        "plt.ylabel(\"x2\")\n",
        "plt.scatter(x1, x2, c = y)"
      ],
      "metadata": {
        "colab": {
          "base_uri": "https://localhost:8080/",
          "height": 267
        },
        "id": "XynwK9KY3PPh",
        "outputId": "ec935dcf-61ef-4e3c-deb2-c163a1d5c508"
      },
      "execution_count": null,
      "outputs": [
        {
          "output_type": "execute_result",
          "data": {
            "text/plain": [
              "<matplotlib.collections.PathCollection at 0x7f339c18f010>"
            ]
          },
          "metadata": {},
          "execution_count": 13
        },
        {
          "output_type": "display_data",
          "data": {
            "text/plain": [
              "<Figure size 240x240 with 1 Axes>"
            ],
            "image/png": "[encoded data removed]"
          },
          "metadata": {}
        }
      ]
    },
    {
      "cell_type": "code",
      "source": [
        "clf = Perceptron(max_iter=100).fit(x, y)"
      ],
      "metadata": {
        "id": "e9raj4bu3Ua9"
      },
      "execution_count": null,
      "outputs": []
    },
    {
      "cell_type": "code",
      "source": [
        "print(\"Classes of the model : \",clf.classes_)\n",
        "print(\"Intercept of the decision boundary : \",clf.intercept_)\n",
        "print(\"Coefficients of the decision boundary : \",clf.coef_)"
      ],
      "metadata": {
        "colab": {
          "base_uri": "https://localhost:8080/"
        },
        "id": "XGBxWzzz3ZeE",
        "outputId": "4ed2c2f0-a34a-4c13-c341-02aa6d35df09"
      },
      "execution_count": null,
      "outputs": [
        {
          "output_type": "stream",
          "name": "stdout",
          "text": [
            "Classes of the model :  [0 1]\n",
            "Intercept of the decision boundary :  [-2.]\n",
            "Coefficients of the decision boundary :  [[2. 1.]]\n"
          ]
        }
      ]
    },
    {
      "cell_type": "code",
      "source": [
        "ymin, ymax = -1,2\n",
        "w = clf.coef_[0]\n",
        "a = -w[0] / w[1]\n",
        "xx = np.linspace(ymin, ymax)\n",
        "yy = a * xx - (clf.intercept_[0]) / w[1]\n",
        "\n",
        "# plotting the decision boundary\n",
        "plt.figure(figsize=(4, 4))\n",
        "ax = plt.axes()\n",
        "ax.scatter(x1, x2, c = y)\n",
        "plt.plot(xx, yy, 'k-')\n",
        "ax.set_xlabel('X1')\n",
        "ax.set_ylabel('X2')\n",
        "plt.show()"
      ],
      "metadata": {
        "colab": {
          "base_uri": "https://localhost:8080/",
          "height": 388
        },
        "id": "9Vk8iPAm3dYY",
        "outputId": "66d92e56-efac-4671-996a-a034d7665da6"
      },
      "execution_count": null,
      "outputs": [
        {
          "output_type": "display_data",
          "data": {
            "text/plain": [
              "<Figure size 400x400 with 1 Axes>"
            ],
            "image/png": "[encoded data removed]"
          },
          "metadata": {}
        }
      ]
    }
  ]
}